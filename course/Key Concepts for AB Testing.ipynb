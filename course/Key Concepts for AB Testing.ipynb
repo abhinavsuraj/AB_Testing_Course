{
 "cells": [
  {
   "cell_type": "code",
   "execution_count": null,
   "metadata": {},
   "outputs": [],
   "source": []
  },
  {
   "cell_type": "markdown",
   "metadata": {},
   "source": []
  },
  {
   "cell_type": "markdown",
   "metadata": {},
   "source": [
    "## Power of Hypothesis Testing\n",
    "\n",
    "### When and where it's used?\n",
    "- Statistical Powr is used in binary Hypothesis Test\n",
    "\n",
    "### Definition\n",
    "- It is the probability that a test rejects the null hypothesis correctly when\n",
    "the alternative Hypothesis is true\n",
    "\n",
    "- It is the likelihhod that a test will detect an effect, when an effect is present\n",
    "\n",
    "### When Value Changed\n",
    "- The higher the statistical power, the better the test is\n",
    "\n",
    "### Application / Example\n",
    "- It is commonly used in Experiment Design\n",
    "- To calculate the minimum sample size so that one can reasonably detect an effect"
   ]
  },
  {
   "cell_type": "markdown",
   "metadata": {},
   "source": [
    "## Type I Error\n",
    "- It is also known as False Positive\n",
    "\n",
    "### When and where it's used?\n",
    "- It is used to categorize errors in a binary Hypothesis Test\n",
    "\n",
    "### Definition\n",
    "- It occurs when we Mistakely reject  <b>true</b> null hypothesis\n",
    "- It means that we conclude our findings are significant, when in fact it had occured by chance\n",
    "\n",
    "### When Value Changed\n",
    "- Larger the value -> the less reliable a test is\n",
    "\n",
    "### Application / Example\n",
    "- It is commonly used in A/B Testing\n",
    "- To show that we observe differences between two groups, but in reality there is no difference"
   ]
  },
  {
   "cell_type": "markdown",
   "metadata": {},
   "source": [
    "## Type II Error\n",
    "- It is also known as False Negative\n",
    "\n",
    "### When and where it's used?\n",
    "- It is used to categorize errors in a binary Hypothesis Test\n",
    "\n",
    "### Definition\n",
    "- It occurs when we fail to reject  <b>false</b> null hypothesis\n",
    "- It means that we conclude our findings are not significant, when in fact it there is a significant effect\n",
    "\n",
    "### When Value Changed\n",
    "- Larger the value -> the less reliable a test is\n",
    "- We want to minimize this error\n",
    "\n",
    "### Application / Example\n",
    "- It is commonly used in A/B Testing\n",
    "- To show that we don't observe differences between two groups, but in reality there is significant difference"
   ]
  },
  {
   "cell_type": "markdown",
   "metadata": {},
   "source": [
    "### Generic Example\n",
    "We want to detect if a person has cancer with a medical test\n",
    "\n",
    "#### Outcome 1\n",
    "- A person has cancer and the test result is <b> Positive </b>\n",
    "\n",
    "<b><i>Power of the Test</i></b> is chance to get Positive result when they truly have cancer\n",
    "\n",
    "#### Outcome 2\n",
    "- The person does <b>not</b> have cancer but test result indicates other way whis is <b>Type I Error</b>\n",
    "- Person would recieve treatment\n",
    "\n",
    "#### Outcome 3\n",
    "- The person truly has cancer but test result indicates <b>negative</b> whis is <b>Type II Error</b>"
   ]
  },
  {
   "cell_type": "markdown",
   "metadata": {},
   "source": [
    "## Confidence Interval\n",
    "\n",
    "### When and where it's used?\n",
    "- Want to know how variable a sample result might be\n",
    "- It is for estimating true value, but we never know what the true value is\n",
    "- The purpose of having samples and observations is to estimate the true value\n",
    "\n",
    "\n",
    "### Definition\n",
    "- CI is range of numbers \n",
    "- It tells how often it contains true value\n",
    "- The Probability of CI covering the true value is <b> Confidence Level </b>\n",
    "- Commonly used Confidence Level is 95%\n",
    "\n",
    "### When Value Changed\n",
    "- Wider the interval-> the more uncertain we are about the sample result\n",
    "- So more confident we want to be, the less data we have -> Wider the CI to be able to capture the true value\n",
    "- Higher Confidence level -> Wider CI\n",
    "\n",
    "### Common Misconception\n",
    "- CI answers: What is the Probability true value is in the CI <b> Completely wrong </b>\n",
    "- True value is a variable & CI is deterministic <b> Completely wrong </b>\n",
    "- True Value: Determined by nature, but is unknown to us\n",
    "- CI:\n",
    "    - Variable\n",
    "    - Estimated from samples and Confidence Level we set\n",
    "- For a particular CI:\n",
    "    - The true value is either 100% in it or not\n",
    "    - Confidence Level: How likely CI(Estimated from samples) covers teh true value\n",
    "### In simple terms\n",
    "- CI measures a level of Uncertainity when we try to estimate the true value\n",
    "\n",
    "#### Example\n",
    "- Measure average weight of men in US\n",
    "    - Randomly measure weight of 30 men and get a CI\n",
    "    - CI will likely cover true weight of all men in US\n",
    "    - But how likely\n",
    "        - If we repeate the process over and over, we expect the CI we construct will cover true value 95% of the time\n",
    "       "
   ]
  },
  {
   "cell_type": "markdown",
   "metadata": {},
   "source": [
    "## P Value\n",
    "\n",
    "### When and where it's used?\n",
    "- It is commonly used in Hypothesis Testing to connect the dots between Observation and Conclusion\n",
    "\n",
    "### Definition\n",
    "- It is a conditional probability\n",
    "- Measures Pr(results as extreme as observed results / null hypothesis is true)\n",
    "\n",
    "\n",
    "### When Value Changed\n",
    "- Low p value -> the less support of null hypothesis\n",
    "- We Often use 0.05 in practice as a cutoff value\n",
    "- p value < 0.05: denotes strong evidence against null hupothesis -> reject null hypothesis\n",
    "- p value > 0.05: denotes weak evidence against null hupothesis -> fail to reject null hypothesis or cannot be rejected\n",
    "\n",
    "### Application / Example\n",
    "- It is commonly used in A/B Testing\n",
    "- When we have treatment and control groups, and we want to test if a metric is different in two groups\n",
    "- Suppose we obtained an experiment and obtained measurements from two groups\n",
    "    - Smaller the p value: more we are convinced there is a difference between 2 groups\n",
    "\n",
    "#### Common Mistake\n",
    "- p value = Pr(there's a difference between groups/ observation) <b> Completely wrong </b>\n",
    "                - OR\n",
    "- p value = Pr(null hypothesis is true/ observation) <b> Completely wrong </b>\n",
    "\n",
    "\n",
    "- p value = Pr(there's a difference/ null hypothesis is true) <b> Correct Interpretation </b>\n",
    "    - Given null hypothesis is true, the probability of observing differences is p values\n",
    "### In Other Words\n",
    "- Question: Average weight of US men is same as fixed value(195 lbs)\n",
    "- p value connects what data we observed and what conclusion we could draw\n",
    "- It tells us assuming the true average weight = 195 lbs, how likely we observe data?\n",
    "- Small p-value ex: 0.05 means, Assume avg. weight is 195 lbs, chance that we obseve the data is very low or data we observe is very extreme. So we believe the true value should not be 195 lbs"
   ]
  },
  {
   "cell_type": "markdown",
   "metadata": {},
   "source": [
    "### Application / Example\n",
    "It is commonly used in Experiment Design\n",
    "To calculate the minimum sample size so that one can reasonably detect an effect"
   ]
  }
 ],
 "metadata": {
  "kernelspec": {
   "display_name": "Python 3",
   "language": "python",
   "name": "python3"
  },
  "language_info": {
   "codemirror_mode": {
    "name": "ipython",
    "version": 3
   },
   "file_extension": ".py",
   "mimetype": "text/x-python",
   "name": "python",
   "nbconvert_exporter": "python",
   "pygments_lexer": "ipython3",
   "version": "3.6.5"
  }
 },
 "nbformat": 4,
 "nbformat_minor": 2
}
